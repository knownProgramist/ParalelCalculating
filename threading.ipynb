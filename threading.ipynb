import threading
import time

def Audi_A6(s, engine):
    print( 'Ауді А6 з мотором {}. Повний привід Quattro!'.format(engine) )
    time.sleep(s)
    print( '{} надійний та швидкий мотор!'.format(engine) )

car1 = threading.Thread( target = Audi_A6, name = '3.0 TDI', args = (3, '3.0 TDI') ) 
car1.start()

def Audi_A8_Long(s, engine):
    print( 'Ауді А8 з мотором {}. Повний привід Quattro, довга база!'.format(engine) )
    time.sleep(s)
    print( '{} потужний але дорогий двигун!'.format(engine) )

car2 = threading.Thread( target = Audi_A8_Long, name = '4.2 TDI', args = (4, '4.2 TDI') ) 
car2.start()

def Audi_A6_Allroud(s, engine):
    print( 'Ауді А6 з мотором {}. Повний привід Quattro, високий кліренс!'.format(engine) )
    time.sleep(s)
    print( '{} надійний бі-турбо двигун!'.format(engine) )

car3 = threading.Thread( target = Audi_A6_Allroud, name = '2.7 TDI', args = (5, '2.7 TDI') )
car3.start()

def Audi_A6_Allroud(s, engine):
    print( 'Ауді А6 з мотором {}. Повний привід Quattro, високий дорожній просвіт!'.format(engine) )
    time.sleep(s)
    print( '{} бі-турбо але не надійний двигун!'.format(engine) )

car4 = threading.Thread( target = Audi_A6_Allroud, name = '2.5 TDI', args = (6, '2.5 TDI') )
car4.start()
