{
  "nbformat": 4,
  "nbformat_minor": 0,
  "metadata": {
    "colab": {
      "name": "Practice_Work1.ipynb",
      "provenance": [],
      "collapsed_sections": []
    },
    "kernelspec": {
      "name": "python3",
      "display_name": "Python 3"
    }
  },
  "cells": [
    {
      "cell_type": "code",
      "metadata": {
        "colab": {
          "base_uri": "https://localhost:8080/"
        },
        "id": "-Pe_P9zJ_y-X",
        "outputId": "15613cc6-5fb9-45c4-c844-4533693eeb18"
      },
      "source": [
        "! pip install pandarallel\r\n"
      ],
      "execution_count": null,
      "outputs": [
        {
          "output_type": "stream",
          "text": [
            "Requirement already satisfied: pandarallel in /usr/local/lib/python3.7/dist-packages (1.5.2)\n",
            "Requirement already satisfied: dill in /usr/local/lib/python3.7/dist-packages (from pandarallel) (0.3.3)\n"
          ],
          "name": "stdout"
        }
      ]
    },
    {
      "cell_type": "code",
      "metadata": {
        "colab": {
          "base_uri": "https://localhost:8080/"
        },
        "id": "4mFrj6ck__9T",
        "outputId": "2a23e20b-e99a-47ee-aa95-c50169bb6692"
      },
      "source": [
        "#SLOBODIAN YURII, ІПЗс-2018\r\n",
        "import pandas as pd\r\n",
        "import requests\r\n",
        "\r\n",
        "from tqdm import tqdm\r\n",
        "tqdm.pandas()\r\n",
        "\r\n",
        "from pandarallel import pandarallel\r\n",
        "pandarallel.initialize(progress_bar=True)"
      ],
      "execution_count": null,
      "outputs": [
        {
          "output_type": "stream",
          "text": [
            "INFO: Pandarallel will run on 2 workers.\n",
            "INFO: Pandarallel will use Memory file system to transfer data between the main process and workers.\n"
          ],
          "name": "stdout"
        },
        {
          "output_type": "stream",
          "text": [
            "/usr/local/lib/python3.7/dist-packages/tqdm/std.py:658: FutureWarning: The Panel class is removed from pandas. Accessing it from the top-level namespace will also be removed in the next version\n",
            "  from pandas import Panel\n"
          ],
          "name": "stderr"
        }
      ]
    },
    {
      "cell_type": "code",
      "metadata": {
        "colab": {
          "base_uri": "https://localhost:8080/"
        },
        "id": "S_jZrKlGAGYO",
        "outputId": "d11a62a5-5767-4588-8c83-7a07301fda83"
      },
      "source": [
        "df = pd.DataFrame(\r\n",
        "    [i for i in range(100)],\r\n",
        "    columns=[\"sample_column\"]\r\n",
        ")\r\n",
        "def function_to_apply(i):\r\n",
        "    r = requests.get(f'https://random-word-api.herokuapp.com/word').json()\r\n",
        "\r\n",
        "    return r[0]\r\n",
        "df[\"sample-word\"] = df.sample_column.progress_apply(function_to_apply)"
      ],
      "execution_count": null,
      "outputs": [
        {
          "output_type": "stream",
          "text": [
            "100%|██████████| 100/100 [01:02<00:00,  1.60it/s]\n"
          ],
          "name": "stderr"
        }
      ]
    },
    {
      "cell_type": "code",
      "metadata": {
        "colab": {
          "base_uri": "https://localhost:8080/"
        },
        "id": "5gChm8bfATg1",
        "outputId": "0ac5f064-0b51-464d-f0c9-ba1a154b86ff"
      },
      "source": [
        "df[\"sample-word\"] = df.sample_column.parallel_apply(function_to_apply)"
      ],
      "execution_count": null,
      "outputs": [
        {
          "output_type": "stream",
          "text": [
            "   0.00%                                          |        0 /       50 |      \n",
            "   0.00%                                          |        0 /       50 |      \b\b\b\b\b\b\b\b\b\b\b\b\b\b\b\b\b\b\b\b\b\b\b\b\b\b\b\b\b\b\b\b\b\b\b\b\b\b\b\b\b\b\b\b\b\b\b\b\b\b\b\b\b\b\b\b\b\b\b\b\b\b\b\b\b\b\b\b\b\b\b\b\b\b\b\b\b\b\b\u001bM   0.00%                                          |        0 /       50 |      \n",
            "   2.00%                                          |        1 /       50 |      \b\b\b\b\b\b\b\b\b\b\b\b\b\b\b\b\b\b\b\b\b\b\b\b\b\b\b\b\b\b\b\b\b\b\b\b\b\b\b\b\b\b\b\b\b\b\b\b\b\b\b\b\b\b\b\b\b\b\b\b\b\b\b\b\b\b\b\b\b\b\b\b\b\b\b\b\b\b\b\u001bM   2.00%                                          |        1 /       50 |      \n",
            "   4.00% :                                        |        2 /       50 |      \b\b\b\b\b\b\b\b\b\b\b\b\b\b\b\b\b\b\b\b\b\b\b\b\b\b\b\b\b\b\b\b\b\b\b\b\b\b\b\b\b\b\b\b\b\b\b\b\b\b\b\b\b\b\b\b\b\b\b\b\b\b\b\b\b\b\b\b\b\b\b\b\b\b\b\b\b\b\b\u001bM   4.00% :                                        |        2 /       50 |      \n",
            "   6.00% ::                                       |        3 /       50 |      \b\b\b\b\b\b\b\b\b\b\b\b\b\b\b\b\b\b\b\b\b\b\b\b\b\b\b\b\b\b\b\b\b\b\b\b\b\b\b\b\b\b\b\b\b\b\b\b\b\b\b\b\b\b\b\b\b\b\b\b\b\b\b\b\b\b\b\b\b\b\b\b\b\b\b\b\b\b\b\u001bM   6.00% ::                                       |        3 /       50 |      \n",
            "   8.00% :::                                      |        4 /       50 |      \b\b\b\b\b\b\b\b\b\b\b\b\b\b\b\b\b\b\b\b\b\b\b\b\b\b\b\b\b\b\b\b\b\b\b\b\b\b\b\b\b\b\b\b\b\b\b\b\b\b\b\b\b\b\b\b\b\b\b\b\b\b\b\b\b\b\b\b\b\b\b\b\b\b\b\b\b\b\b\u001bM   8.00% :::                                      |        4 /       50 |      \n",
            "  10.00% ::::                                     |        5 /       50 |      \b\b\b\b\b\b\b\b\b\b\b\b\b\b\b\b\b\b\b\b\b\b\b\b\b\b\b\b\b\b\b\b\b\b\b\b\b\b\b\b\b\b\b\b\b\b\b\b\b\b\b\b\b\b\b\b\b\b\b\b\b\b\b\b\b\b\b\b\b\b\b\b\b\b\b\b\b\b\b\u001bM  10.00% ::::                                     |        5 /       50 |      \n",
            "  12.00% ::::                                     |        6 /       50 |      \b\b\b\b\b\b\b\b\b\b\b\b\b\b\b\b\b\b\b\b\b\b\b\b\b\b\b\b\b\b\b\b\b\b\b\b\b\b\b\b\b\b\b\b\b\b\b\b\b\b\b\b\b\b\b\b\b\b\b\b\b\b\b\b\b\b\b\b\b\b\b\b\b\b\b\b\b\b\b\u001bM  12.00% ::::                                     |        6 /       50 |      \n",
            "  14.00% :::::                                    |        7 /       50 |      \b\b\b\b\b\b\b\b\b\b\b\b\b\b\b\b\b\b\b\b\b\b\b\b\b\b\b\b\b\b\b\b\b\b\b\b\b\b\b\b\b\b\b\b\b\b\b\b\b\b\b\b\b\b\b\b\b\b\b\b\b\b\b\b\b\b\b\b\b\b\b\b\b\b\b\b\b\b\b\u001bM  14.00% :::::                                    |        7 /       50 |      \n",
            "  16.00% ::::::                                   |        8 /       50 |      \b\b\b\b\b\b\b\b\b\b\b\b\b\b\b\b\b\b\b\b\b\b\b\b\b\b\b\b\b\b\b\b\b\b\b\b\b\b\b\b\b\b\b\b\b\b\b\b\b\b\b\b\b\b\b\b\b\b\b\b\b\b\b\b\b\b\b\b\b\b\b\b\b\b\b\b\b\b\b\u001bM  16.00% ::::::                                   |        8 /       50 |      \n",
            "  18.00% :::::::                                  |        9 /       50 |      \b\b\b\b\b\b\b\b\b\b\b\b\b\b\b\b\b\b\b\b\b\b\b\b\b\b\b\b\b\b\b\b\b\b\b\b\b\b\b\b\b\b\b\b\b\b\b\b\b\b\b\b\b\b\b\b\b\b\b\b\b\b\b\b\b\b\b\b\b\b\b\b\b\b\b\b\b\b\b\u001bM  18.00% :::::::                                  |        9 /       50 |      \n",
            "  20.00% ::::::::                                 |       10 /       50 |      \b\b\b\b\b\b\b\b\b\b\b\b\b\b\b\b\b\b\b\b\b\b\b\b\b\b\b\b\b\b\b\b\b\b\b\b\b\b\b\b\b\b\b\b\b\b\b\b\b\b\b\b\b\b\b\b\b\b\b\b\b\b\b\b\b\b\b\b\b\b\b\b\b\b\b\b\b\b\b\u001bM  20.00% ::::::::                                 |       10 /       50 |      \n",
            "  22.00% ::::::::                                 |       11 /       50 |      \b\b\b\b\b\b\b\b\b\b\b\b\b\b\b\b\b\b\b\b\b\b\b\b\b\b\b\b\b\b\b\b\b\b\b\b\b\b\b\b\b\b\b\b\b\b\b\b\b\b\b\b\b\b\b\b\b\b\b\b\b\b\b\b\b\b\b\b\b\b\b\b\b\b\b\b\b\b\b\u001bM  22.00% ::::::::                                 |       11 /       50 |      \n",
            "  24.00% :::::::::                                |       12 /       50 |      \b\b\b\b\b\b\b\b\b\b\b\b\b\b\b\b\b\b\b\b\b\b\b\b\b\b\b\b\b\b\b\b\b\b\b\b\b\b\b\b\b\b\b\b\b\b\b\b\b\b\b\b\b\b\b\b\b\b\b\b\b\b\b\b\b\b\b\b\b\b\b\b\b\b\b\b\b\b\b\u001bM  24.00% :::::::::                                |       12 /       50 |      \n",
            "  26.00% ::::::::::                               |       13 /       50 |      \b\b\b\b\b\b\b\b\b\b\b\b\b\b\b\b\b\b\b\b\b\b\b\b\b\b\b\b\b\b\b\b\b\b\b\b\b\b\b\b\b\b\b\b\b\b\b\b\b\b\b\b\b\b\b\b\b\b\b\b\b\b\b\b\b\b\b\b\b\b\b\b\b\b\b\b\b\b\b\u001bM  26.00% ::::::::::                               |       13 /       50 |      \n",
            "  28.00% :::::::::::                              |       14 /       50 |      \b\b\b\b\b\b\b\b\b\b\b\b\b\b\b\b\b\b\b\b\b\b\b\b\b\b\b\b\b\b\b\b\b\b\b\b\b\b\b\b\b\b\b\b\b\b\b\b\b\b\b\b\b\b\b\b\b\b\b\b\b\b\b\b\b\b\b\b\b\b\b\b\b\b\b\b\b\b\b\u001bM  30.00% ::::::::::::                             |       15 /       50 |      \n",
            "  28.00% :::::::::::                              |       14 /       50 |      \b\b\b\b\b\b\b\b\b\b\b\b\b\b\b\b\b\b\b\b\b\b\b\b\b\b\b\b\b\b\b\b\b\b\b\b\b\b\b\b\b\b\b\b\b\b\b\b\b\b\b\b\b\b\b\b\b\b\b\b\b\b\b\b\b\b\b\b\b\b\b\b\b\b\b\b\b\b\b\u001bM  32.00% ::::::::::::                             |       16 /       50 |      \n",
            "  30.00% ::::::::::::                             |       15 /       50 |      \b\b\b\b\b\b\b\b\b\b\b\b\b\b\b\b\b\b\b\b\b\b\b\b\b\b\b\b\b\b\b\b\b\b\b\b\b\b\b\b\b\b\b\b\b\b\b\b\b\b\b\b\b\b\b\b\b\b\b\b\b\b\b\b\b\b\b\b\b\b\b\b\b\b\b\b\b\b\b\u001bM  34.00% :::::::::::::                            |       17 /       50 |      \n",
            "  32.00% ::::::::::::                             |       16 /       50 |      \b\b\b\b\b\b\b\b\b\b\b\b\b\b\b\b\b\b\b\b\b\b\b\b\b\b\b\b\b\b\b\b\b\b\b\b\b\b\b\b\b\b\b\b\b\b\b\b\b\b\b\b\b\b\b\b\b\b\b\b\b\b\b\b\b\b\b\b\b\b\b\b\b\b\b\b\b\b\b\u001bM  36.00% ::::::::::::::                           |       18 /       50 |      \n",
            "  34.00% :::::::::::::                            |       17 /       50 |      \b\b\b\b\b\b\b\b\b\b\b\b\b\b\b\b\b\b\b\b\b\b\b\b\b\b\b\b\b\b\b\b\b\b\b\b\b\b\b\b\b\b\b\b\b\b\b\b\b\b\b\b\b\b\b\b\b\b\b\b\b\b\b\b\b\b\b\b\b\b\b\b\b\b\b\b\b\b\b\u001bM  38.00% :::::::::::::::                          |       19 /       50 |      \n",
            "  36.00% ::::::::::::::                           |       18 /       50 |      \b\b\b\b\b\b\b\b\b\b\b\b\b\b\b\b\b\b\b\b\b\b\b\b\b\b\b\b\b\b\b\b\b\b\b\b\b\b\b\b\b\b\b\b\b\b\b\b\b\b\b\b\b\b\b\b\b\b\b\b\b\b\b\b\b\b\b\b\b\b\b\b\b\b\b\b\b\b\b\u001bM  38.00% :::::::::::::::                          |       19 /       50 |      \n",
            "  40.00% ::::::::::::::::                         |       20 /       50 |      \b\b\b\b\b\b\b\b\b\b\b\b\b\b\b\b\b\b\b\b\b\b\b\b\b\b\b\b\b\b\b\b\b\b\b\b\b\b\b\b\b\b\b\b\b\b\b\b\b\b\b\b\b\b\b\b\b\b\b\b\b\b\b\b\b\b\b\b\b\b\b\b\b\b\b\b\b\b\b\u001bM  40.00% ::::::::::::::::                         |       20 /       50 |      \n",
            "  42.00% ::::::::::::::::                         |       21 /       50 |      \b\b\b\b\b\b\b\b\b\b\b\b\b\b\b\b\b\b\b\b\b\b\b\b\b\b\b\b\b\b\b\b\b\b\b\b\b\b\b\b\b\b\b\b\b\b\b\b\b\b\b\b\b\b\b\b\b\b\b\b\b\b\b\b\b\b\b\b\b\b\b\b\b\b\b\b\b\b\b\u001bM  42.00% ::::::::::::::::                         |       21 /       50 |      \n",
            "  44.00% :::::::::::::::::                        |       22 /       50 |      \b\b\b\b\b\b\b\b\b\b\b\b\b\b\b\b\b\b\b\b\b\b\b\b\b\b\b\b\b\b\b\b\b\b\b\b\b\b\b\b\b\b\b\b\b\b\b\b\b\b\b\b\b\b\b\b\b\b\b\b\b\b\b\b\b\b\b\b\b\b\b\b\b\b\b\b\b\b\b\u001bM  44.00% :::::::::::::::::                        |       22 /       50 |      \n",
            "  46.00% ::::::::::::::::::                       |       23 /       50 |      \b\b\b\b\b\b\b\b\b\b\b\b\b\b\b\b\b\b\b\b\b\b\b\b\b\b\b\b\b\b\b\b\b\b\b\b\b\b\b\b\b\b\b\b\b\b\b\b\b\b\b\b\b\b\b\b\b\b\b\b\b\b\b\b\b\b\b\b\b\b\b\b\b\b\b\b\b\b\b\u001bM  46.00% ::::::::::::::::::                       |       23 /       50 |      \n",
            "  48.00% :::::::::::::::::::                      |       24 /       50 |      \b\b\b\b\b\b\b\b\b\b\b\b\b\b\b\b\b\b\b\b\b\b\b\b\b\b\b\b\b\b\b\b\b\b\b\b\b\b\b\b\b\b\b\b\b\b\b\b\b\b\b\b\b\b\b\b\b\b\b\b\b\b\b\b\b\b\b\b\b\b\b\b\b\b\b\b\b\b\b\u001bM  48.00% :::::::::::::::::::                      |       24 /       50 |      \n",
            "  50.00% ::::::::::::::::::::                     |       25 /       50 |      \b\b\b\b\b\b\b\b\b\b\b\b\b\b\b\b\b\b\b\b\b\b\b\b\b\b\b\b\b\b\b\b\b\b\b\b\b\b\b\b\b\b\b\b\b\b\b\b\b\b\b\b\b\b\b\b\b\b\b\b\b\b\b\b\b\b\b\b\b\b\b\b\b\b\b\b\b\b\b\u001bM  50.00% ::::::::::::::::::::                     |       25 /       50 |      \n",
            "  52.00% ::::::::::::::::::::                     |       26 /       50 |      \b\b\b\b\b\b\b\b\b\b\b\b\b\b\b\b\b\b\b\b\b\b\b\b\b\b\b\b\b\b\b\b\b\b\b\b\b\b\b\b\b\b\b\b\b\b\b\b\b\b\b\b\b\b\b\b\b\b\b\b\b\b\b\b\b\b\b\b\b\b\b\b\b\b\b\b\b\b\b\u001bM  52.00% ::::::::::::::::::::                     |       26 /       50 |      \n",
            "  54.00% :::::::::::::::::::::                    |       27 /       50 |      \b\b\b\b\b\b\b\b\b\b\b\b\b\b\b\b\b\b\b\b\b\b\b\b\b\b\b\b\b\b\b\b\b\b\b\b\b\b\b\b\b\b\b\b\b\b\b\b\b\b\b\b\b\b\b\b\b\b\b\b\b\b\b\b\b\b\b\b\b\b\b\b\b\b\b\b\b\b\b\u001bM  54.00% :::::::::::::::::::::                    |       27 /       50 |      \n",
            "  56.00% ::::::::::::::::::::::                   |       28 /       50 |      \b\b\b\b\b\b\b\b\b\b\b\b\b\b\b\b\b\b\b\b\b\b\b\b\b\b\b\b\b\b\b\b\b\b\b\b\b\b\b\b\b\b\b\b\b\b\b\b\b\b\b\b\b\b\b\b\b\b\b\b\b\b\b\b\b\b\b\b\b\b\b\b\b\b\b\b\b\b\b\u001bM  58.00% :::::::::::::::::::::::                  |       29 /       50 |      \n",
            "  56.00% ::::::::::::::::::::::                   |       28 /       50 |      \b\b\b\b\b\b\b\b\b\b\b\b\b\b\b\b\b\b\b\b\b\b\b\b\b\b\b\b\b\b\b\b\b\b\b\b\b\b\b\b\b\b\b\b\b\b\b\b\b\b\b\b\b\b\b\b\b\b\b\b\b\b\b\b\b\b\b\b\b\b\b\b\b\b\b\b\b\b\b\u001bM  60.00% ::::::::::::::::::::::::                 |       30 /       50 |      \n",
            "  58.00% :::::::::::::::::::::::                  |       29 /       50 |      \b\b\b\b\b\b\b\b\b\b\b\b\b\b\b\b\b\b\b\b\b\b\b\b\b\b\b\b\b\b\b\b\b\b\b\b\b\b\b\b\b\b\b\b\b\b\b\b\b\b\b\b\b\b\b\b\b\b\b\b\b\b\b\b\b\b\b\b\b\b\b\b\b\b\b\b\b\b\b\u001bM  62.00% ::::::::::::::::::::::::                 |       31 /       50 |      \n",
            "  60.00% ::::::::::::::::::::::::                 |       30 /       50 |      \b\b\b\b\b\b\b\b\b\b\b\b\b\b\b\b\b\b\b\b\b\b\b\b\b\b\b\b\b\b\b\b\b\b\b\b\b\b\b\b\b\b\b\b\b\b\b\b\b\b\b\b\b\b\b\b\b\b\b\b\b\b\b\b\b\b\b\b\b\b\b\b\b\b\b\b\b\b\b\u001bM  64.00% :::::::::::::::::::::::::                |       32 /       50 |      \n",
            "  62.00% ::::::::::::::::::::::::                 |       31 /       50 |      \b\b\b\b\b\b\b\b\b\b\b\b\b\b\b\b\b\b\b\b\b\b\b\b\b\b\b\b\b\b\b\b\b\b\b\b\b\b\b\b\b\b\b\b\b\b\b\b\b\b\b\b\b\b\b\b\b\b\b\b\b\b\b\b\b\b\b\b\b\b\b\b\b\b\b\b\b\b\b\u001bM  66.00% ::::::::::::::::::::::::::               |       33 /       50 |      \n",
            "  64.00% :::::::::::::::::::::::::                |       32 /       50 |      \b\b\b\b\b\b\b\b\b\b\b\b\b\b\b\b\b\b\b\b\b\b\b\b\b\b\b\b\b\b\b\b\b\b\b\b\b\b\b\b\b\b\b\b\b\b\b\b\b\b\b\b\b\b\b\b\b\b\b\b\b\b\b\b\b\b\b\b\b\b\b\b\b\b\b\b\b\b\b\u001bM  68.00% :::::::::::::::::::::::::::              |       34 /       50 |      \n",
            "  66.00% ::::::::::::::::::::::::::               |       33 /       50 |      \b\b\b\b\b\b\b\b\b\b\b\b\b\b\b\b\b\b\b\b\b\b\b\b\b\b\b\b\b\b\b\b\b\b\b\b\b\b\b\b\b\b\b\b\b\b\b\b\b\b\b\b\b\b\b\b\b\b\b\b\b\b\b\b\b\b\b\b\b\b\b\b\b\b\b\b\b\b\b\u001bM  70.00% ::::::::::::::::::::::::::::             |       35 /       50 |      \n",
            "  68.00% :::::::::::::::::::::::::::              |       34 /       50 |      \b\b\b\b\b\b\b\b\b\b\b\b\b\b\b\b\b\b\b\b\b\b\b\b\b\b\b\b\b\b\b\b\b\b\b\b\b\b\b\b\b\b\b\b\b\b\b\b\b\b\b\b\b\b\b\b\b\b\b\b\b\b\b\b\b\b\b\b\b\b\b\b\b\b\b\b\b\b\b\u001bM  72.00% ::::::::::::::::::::::::::::             |       36 /       50 |      \n",
            "  70.00% ::::::::::::::::::::::::::::             |       35 /       50 |      \b\b\b\b\b\b\b\b\b\b\b\b\b\b\b\b\b\b\b\b\b\b\b\b\b\b\b\b\b\b\b\b\b\b\b\b\b\b\b\b\b\b\b\b\b\b\b\b\b\b\b\b\b\b\b\b\b\b\b\b\b\b\b\b\b\b\b\b\b\b\b\b\b\b\b\b\b\b\b\u001bM  74.00% :::::::::::::::::::::::::::::            |       37 /       50 |      \n",
            "  72.00% ::::::::::::::::::::::::::::             |       36 /       50 |      \b\b\b\b\b\b\b\b\b\b\b\b\b\b\b\b\b\b\b\b\b\b\b\b\b\b\b\b\b\b\b\b\b\b\b\b\b\b\b\b\b\b\b\b\b\b\b\b\b\b\b\b\b\b\b\b\b\b\b\b\b\b\b\b\b\b\b\b\b\b\b\b\b\b\b\b\b\b\b\u001bM  76.00% ::::::::::::::::::::::::::::::           |       38 /       50 |      \n",
            "  74.00% :::::::::::::::::::::::::::::            |       37 /       50 |      \b\b\b\b\b\b\b\b\b\b\b\b\b\b\b\b\b\b\b\b\b\b\b\b\b\b\b\b\b\b\b\b\b\b\b\b\b\b\b\b\b\b\b\b\b\b\b\b\b\b\b\b\b\b\b\b\b\b\b\b\b\b\b\b\b\b\b\b\b\b\b\b\b\b\b\b\b\b\b\u001bM  78.00% :::::::::::::::::::::::::::::::          |       39 /       50 |      \n",
            "  76.00% ::::::::::::::::::::::::::::::           |       38 /       50 |      \b\b\b\b\b\b\b\b\b\b\b\b\b\b\b\b\b\b\b\b\b\b\b\b\b\b\b\b\b\b\b\b\b\b\b\b\b\b\b\b\b\b\b\b\b\b\b\b\b\b\b\b\b\b\b\b\b\b\b\b\b\b\b\b\b\b\b\b\b\b\b\b\b\b\b\b\b\b\b\u001bM  80.00% ::::::::::::::::::::::::::::::::         |       40 /       50 |      \n",
            "  78.00% :::::::::::::::::::::::::::::::          |       39 /       50 |      \b\b\b\b\b\b\b\b\b\b\b\b\b\b\b\b\b\b\b\b\b\b\b\b\b\b\b\b\b\b\b\b\b\b\b\b\b\b\b\b\b\b\b\b\b\b\b\b\b\b\b\b\b\b\b\b\b\b\b\b\b\b\b\b\b\b\b\b\b\b\b\b\b\b\b\b\b\b\b\u001bM  82.00% ::::::::::::::::::::::::::::::::         |       41 /       50 |      \n",
            "  80.00% ::::::::::::::::::::::::::::::::         |       40 /       50 |      \b\b\b\b\b\b\b\b\b\b\b\b\b\b\b\b\b\b\b\b\b\b\b\b\b\b\b\b\b\b\b\b\b\b\b\b\b\b\b\b\b\b\b\b\b\b\b\b\b\b\b\b\b\b\b\b\b\b\b\b\b\b\b\b\b\b\b\b\b\b\b\b\b\b\b\b\b\b\b\u001bM  84.00% :::::::::::::::::::::::::::::::::        |       42 /       50 |      \n",
            "  82.00% ::::::::::::::::::::::::::::::::         |       41 /       50 |      \b\b\b\b\b\b\b\b\b\b\b\b\b\b\b\b\b\b\b\b\b\b\b\b\b\b\b\b\b\b\b\b\b\b\b\b\b\b\b\b\b\b\b\b\b\b\b\b\b\b\b\b\b\b\b\b\b\b\b\b\b\b\b\b\b\b\b\b\b\b\b\b\b\b\b\b\b\b\b\u001bM  86.00% ::::::::::::::::::::::::::::::::::       |       43 /       50 |      \n",
            "  84.00% :::::::::::::::::::::::::::::::::        |       42 /       50 |      \b\b\b\b\b\b\b\b\b\b\b\b\b\b\b\b\b\b\b\b\b\b\b\b\b\b\b\b\b\b\b\b\b\b\b\b\b\b\b\b\b\b\b\b\b\b\b\b\b\b\b\b\b\b\b\b\b\b\b\b\b\b\b\b\b\b\b\b\b\b\b\b\b\b\b\b\b\b\b\u001bM  88.00% :::::::::::::::::::::::::::::::::::      |       44 /       50 |      \n",
            "  86.00% ::::::::::::::::::::::::::::::::::       |       43 /       50 |      \b\b\b\b\b\b\b\b\b\b\b\b\b\b\b\b\b\b\b\b\b\b\b\b\b\b\b\b\b\b\b\b\b\b\b\b\b\b\b\b\b\b\b\b\b\b\b\b\b\b\b\b\b\b\b\b\b\b\b\b\b\b\b\b\b\b\b\b\b\b\b\b\b\b\b\b\b\b\b\u001bM  90.00% ::::::::::::::::::::::::::::::::::::     |       45 /       50 |      \n",
            "  88.00% :::::::::::::::::::::::::::::::::::      |       44 /       50 |      \b\b\b\b\b\b\b\b\b\b\b\b\b\b\b\b\b\b\b\b\b\b\b\b\b\b\b\b\b\b\b\b\b\b\b\b\b\b\b\b\b\b\b\b\b\b\b\b\b\b\b\b\b\b\b\b\b\b\b\b\b\b\b\b\b\b\b\b\b\b\b\b\b\b\b\b\b\b\b\u001bM  92.00% ::::::::::::::::::::::::::::::::::::     |       46 /       50 |      \n",
            "  90.00% ::::::::::::::::::::::::::::::::::::     |       45 /       50 |      \b\b\b\b\b\b\b\b\b\b\b\b\b\b\b\b\b\b\b\b\b\b\b\b\b\b\b\b\b\b\b\b\b\b\b\b\b\b\b\b\b\b\b\b\b\b\b\b\b\b\b\b\b\b\b\b\b\b\b\b\b\b\b\b\b\b\b\b\b\b\b\b\b\b\b\b\b\b\b\u001bM  94.00% :::::::::::::::::::::::::::::::::::::    |       47 /       50 |      \n",
            "  92.00% ::::::::::::::::::::::::::::::::::::     |       46 /       50 |      \b\b\b\b\b\b\b\b\b\b\b\b\b\b\b\b\b\b\b\b\b\b\b\b\b\b\b\b\b\b\b\b\b\b\b\b\b\b\b\b\b\b\b\b\b\b\b\b\b\b\b\b\b\b\b\b\b\b\b\b\b\b\b\b\b\b\b\b\b\b\b\b\b\b\b\b\b\b\b\u001bM  96.00% ::::::::::::::::::::::::::::::::::::::   |       48 /       50 |      \n",
            "  94.00% :::::::::::::::::::::::::::::::::::::    |       47 /       50 |      \b\b\b\b\b\b\b\b\b\b\b\b\b\b\b\b\b\b\b\b\b\b\b\b\b\b\b\b\b\b\b\b\b\b\b\b\b\b\b\b\b\b\b\b\b\b\b\b\b\b\b\b\b\b\b\b\b\b\b\b\b\b\b\b\b\b\b\b\b\b\b\b\b\b\b\b\b\b\b\u001bM  98.00% :::::::::::::::::::::::::::::::::::::::  |       49 /       50 |      \n",
            "  96.00% ::::::::::::::::::::::::::::::::::::::   |       48 /       50 |      \b\b\b\b\b\b\b\b\b\b\b\b\b\b\b\b\b\b\b\b\b\b\b\b\b\b\b\b\b\b\b\b\b\b\b\b\b\b\b\b\b\b\b\b\b\b\b\b\b\b\b\b\b\b\b\b\b\b\b\b\b\b\b\b\b\b\b\b\b\b\b\b\b\b\b\b\b\b\b\u001bM 100.00% :::::::::::::::::::::::::::::::::::::::: |       50 /       50 |      \n",
            "  98.00% :::::::::::::::::::::::::::::::::::::::  |       49 /       50 |      \b\b\b\b\b\b\b\b\b\b\b\b\b\b\b\b\b\b\b\b\b\b\b\b\b\b\b\b\b\b\b\b\b\b\b\b\b\b\b\b\b\b\b\b\b\b\b\b\b\b\b\b\b\b\b\b\b\b\b\b\b\b\b\b\b\b\b\b\b\b\b\b\b\b\b\b\b\b\b\u001bM 100.00% :::::::::::::::::::::::::::::::::::::::: |       50 /       50 |      \n",
            " 100.00% :::::::::::::::::::::::::::::::::::::::: |       50 /       50 |      "
          ],
          "name": "stdout"
        }
      ]
    },
    {
      "cell_type": "code",
      "metadata": {
        "id": "dZg3ByWWAjGf"
      },
      "source": [
        "import collections \r\n",
        "import multiprocessing"
      ],
      "execution_count": null,
      "outputs": []
    },
    {
      "cell_type": "code",
      "metadata": {
        "id": "uv63FvhlA09F"
      },
      "source": [
        "Scientist = collections.namedtuple('Scientist', [   'name',   'born',])\r\n",
        "\r\n",
        "scientists = (Scientist(name='Ada Lovelace', born=1815),\r\n",
        "                    Scientist(name='Emmy Noether', born=1882),\r\n",
        "                    Scientist(name='Marie Curie', born=1867),\r\n",
        "                    Scientist(name='Tu Youyou', born=1930),\r\n",
        "                    Scientist(name='Ada Yonath', born=1939),\r\n",
        "                    Scientist(name='Vera Rubin', born=1928),\r\n",
        "                    Scientist(name='Sally Ride', born=1951),)\r\n",
        "def process_item(item):\r\n",
        "     return {'name': item.name, 'age': 2200 - item.born   }"
      ],
      "execution_count": null,
      "outputs": []
    },
    {
      "cell_type": "code",
      "metadata": {
        "colab": {
          "base_uri": "https://localhost:8080/"
        },
        "id": "T8B-gtbNA_jM",
        "outputId": "32a0f408-ac7a-48cc-c497-37618ad0e706"
      },
      "source": [
        "pool = multiprocessing.Pool()\r\n",
        "result = pool.map(process_item, scientists)\r\n",
        "print(tuple(result))"
      ],
      "execution_count": null,
      "outputs": [
        {
          "output_type": "stream",
          "text": [
            "({'name': 'Ada Lovelace', 'age': 385}, {'name': 'Emmy Noether', 'age': 318}, {'name': 'Marie Curie', 'age': 333}, {'name': 'Tu Youyou', 'age': 270}, {'name': 'Ada Yonath', 'age': 261}, {'name': 'Vera Rubin', 'age': 272}, {'name': 'Sally Ride', 'age': 249})\n"
          ],
          "name": "stdout"
        }
      ]
    }
  ]
}