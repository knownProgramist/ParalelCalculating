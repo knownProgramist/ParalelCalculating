{
  "nbformat": 4,
  "nbformat_minor": 0,
  "metadata": {
    "colab": {
      "name": "RW_File.ipynb",
      "provenance": []
    },
    "kernelspec": {
      "name": "python3",
      "display_name": "Python 3"
    }
  },
  "cells": [
    {
      "cell_type": "code",
      "metadata": {
        "colab": {
          "base_uri": "https://localhost:8080/"
        },
        "id": "5tntsCDlkPFG",
        "outputId": "b4c9f593-649d-4a6e-8d67-05763d1288af"
      },
      "source": [
        "with open('file.txt', 'w') as f:\r\n",
        "  f.write(\"Some text\")\r\n",
        "\r\n",
        "f = open('file.txt', 'r')\r\n",
        "try:\r\n",
        "  print( f.read() )\r\n",
        "finally:\r\n",
        "  f.close()"
      ],
      "execution_count": 1,
      "outputs": [
        {
          "output_type": "stream",
          "text": [
            "Some text\n"
          ],
          "name": "stdout"
        }
      ]
    }
  ]
}